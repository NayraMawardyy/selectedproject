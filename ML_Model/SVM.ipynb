{
 "cells": [
  {
   "cell_type": "markdown",
   "metadata": {},
   "source": [
    "IMPORTS"
   ]
  },
  {
   "cell_type": "code",
   "execution_count": null,
   "metadata": {},
   "outputs": [],
   "source": [
    "# Load the Pandas libraries with alias 'pd' \n",
    "import pandas as pd \n",
    "import numpy as np\n",
    "import seaborn as sn\n",
    "from sklearn.model_selection import train_test_split\n",
    "from sklearn.preprocessing import StandardScaler\n",
    "from sklearn import metrics \n",
    "from sklearn.preprocessing import MinMaxScaler\n",
    "from sklearn.metrics import classification_report\n",
    "from sklearn.feature_selection import VarianceThreshold\n",
    "from imblearn.combine import SMOTETomek\n",
    "from imblearn.combine import SMOTEENN\n",
    "from collections import Counter\n",
    "from sklearn.neighbors import KNeighborsClassifier\n",
    "from sklearn.ensemble import RandomForestClassifier\n",
    "from sklearn.tree import DecisionTreeClassifier\n",
    "from sklearn.linear_model import LogisticRegression\n",
    "from sklearn import svm\n",
    "import matplotlib.pyplot as plt"
   ]
  },
  {
   "cell_type": "markdown",
   "metadata": {},
   "source": [
    "READING DATASET AND EXAMINING LABEL\n"
   ]
  },
  {
   "cell_type": "code",
   "execution_count": null,
   "metadata": {
    "scrolled": true
   },
   "outputs": [],
   "source": [
    "dataset = pd.read_csv(\"c:/Darknet_all.csv\" , low_memory=False) \n",
    "df = pd.DataFrame(dataset)\n",
    "display(df)\n",
    "print (df['Label'].value_counts(ascending=True))\n",
    "\n"
   ]
  },
  {
   "cell_type": "markdown",
   "metadata": {},
   "source": [
    "After examining the Label values , we found out some duplicate classes so we dropped them ."
   ]
  },
  {
   "cell_type": "code",
   "execution_count": null,
   "metadata": {},
   "outputs": [],
   "source": [
    "\n",
    "\n",
    "\n",
    "dup_values = ['Video-streaming', 'AUDIO-STREAMING','File-transfer' ]\n",
    "df = df[df.Label.isin(dup_values) == False]    #returing df without duplicated classes\n",
    "print (df['Label'].value_counts(ascending=True))\n",
    "\n",
    "\n"
   ]
  },
  {
   "cell_type": "markdown",
   "metadata": {},
   "source": [
    "Missing data is data which is not available ( NULL) or infinite values , we will remove the rows which contain any missing data. This shall not affect the model as the dataset is big enough."
   ]
  },
  {
   "cell_type": "code",
   "execution_count": null,
   "metadata": {},
   "outputs": [],
   "source": [
    "\n",
    "\n",
    "df.replace([np.inf, -np.inf], np.nan, inplace=True) #replace infinity values with NaN\n",
    "df.dropna(inplace=True) #dropping rows with missing values  \n",
    "print(\"Dataset size after removal : \" ,df.shape)\n",
    "\n",
    "\n"
   ]
  },
  {
   "cell_type": "markdown",
   "metadata": {},
   "source": [
    "Dropping unneccassory features like id ,and converting ips to binary then int.."
   ]
  },
  {
   "cell_type": "code",
   "execution_count": null,
   "metadata": {},
   "outputs": [],
   "source": [
    "df.drop('Flow ID', axis=1, inplace=True)\n",
    "\n",
    "\n",
    "i=0\n",
    "for ip in df['Src IP'].values:\n",
    "    z = 0\n",
    "    parts = ip.split('.')\n",
    "    z = (int(parts[0]) << 24) + (int(parts[1]) << 16) + (int(parts[2]) << 8) + int(parts[3])\n",
    "    ip= z\n",
    "    df['Src IP'].values[i]=ip\n",
    "    i=i+1\n",
    "\n",
    "\n",
    "\n",
    "i=0    \n",
    "for ip in df['Dst IP'].values:\n",
    "    z = 0\n",
    "    parts = ip.split('.')\n",
    "    z = (int(parts[0]) << 24) + (int(parts[1]) << 16) + (int(parts[2]) << 8) + int(parts[3])\n",
    "    ip= z\n",
    "    df['Dst IP'].values[i]=ip\n",
    "    i=i+1"
   ]
  },
  {
   "cell_type": "markdown",
   "metadata": {},
   "source": [
    "Removing 0 variance features.."
   ]
  },
  {
   "cell_type": "code",
   "execution_count": null,
   "metadata": {},
   "outputs": [],
   "source": [
    "\n",
    "\n",
    "\n",
    "df_nolabel = df.iloc[:,:-1].values\n",
    "\n",
    "sel = VarianceThreshold(threshold=0)    \n",
    "sel.fit_transform(df_nolabel)\n",
    "arr=sel.get_support()\n",
    "\n",
    "arr1=np.argwhere(arr == 0)\n",
    "\n",
    "print(\"Dataset size before removal \" ,df.shape ,\"\\n\")\n",
    "features_to_remove=[]\n",
    "for i in arr1 :\n",
    "    features_to_remove.append((df.columns[i].values[0]))\n",
    "\n",
    "print(\"0 variance features : \" ,features_to_remove ,\"\\n\")\n",
    "df.drop(features_to_remove, axis=1, inplace=True)\n",
    "print(\"Dataset size after removal \" ,df.shape , \"\\n\")"
   ]
  },
  {
   "cell_type": "markdown",
   "metadata": {},
   "source": [
    "Features scaling and splitting the dataset into training and testing subsets."
   ]
  },
  {
   "cell_type": "code",
   "execution_count": null,
   "metadata": {},
   "outputs": [],
   "source": [
    "count=df.shape[1]\n",
    "x = df.iloc[:,:-1].values\n",
    "y = df.iloc[:, count-1].values\n",
    "\n",
    "scaler = StandardScaler().fit(x)\n",
    "x = scaler.transform(x)\n",
    "\n",
    "X_train, X_test, y_train, y_test = train_test_split(x, y, test_size=0.3)\n",
    "\n"
   ]
  },
  {
   "cell_type": "markdown",
   "metadata": {},
   "source": [
    "SMOTE technique to overcome dataset imbalance .."
   ]
  },
  {
   "cell_type": "code",
   "execution_count": null,
   "metadata": {},
   "outputs": [],
   "source": [
    "\n",
    "counter = Counter(y_train) \n",
    "print('Before', counter) \n",
    "smtom = SMOTEENN () \n",
    "X_train_smtom, y_train_smtom = smtom.fit_resample (X_train, y_train)\n",
    "counter = Counter(y_train_smtom) \n",
    "print('After', counter)\n"
   ]
  },
  {
   "cell_type": "code",
   "execution_count": null,
   "metadata": {},
   "outputs": [],
   "source": [
    "# SVM\n",
    "clf = svm.SVC(kernel='linear')\n",
    "clf.fit(X_train_smtom, y_train_smtom)\n",
    "y_pred = clf.predict(X_test)\n",
    "print(classification_report(y_test, y_pred))"
   ]
  }
 ],
 "metadata": {
  "kernelspec": {
   "display_name": "Python 3",
   "language": "python",
   "name": "python3"
  },
  "language_info": {
   "codemirror_mode": {
    "name": "ipython",
    "version": 3
   },
   "file_extension": ".py",
   "mimetype": "text/x-python",
   "name": "python",
   "nbconvert_exporter": "python",
   "pygments_lexer": "ipython3",
   "version": "3.8.5"
  }
 },
 "nbformat": 4,
 "nbformat_minor": 4
}
