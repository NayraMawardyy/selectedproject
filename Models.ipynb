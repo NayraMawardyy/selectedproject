{
 "cells": [
  {
   "cell_type": "code",
   "execution_count": null,
   "metadata": {},
   "outputs": [],
   "source": []
  },
  {
   "cell_type": "markdown",
   "metadata": {},
   "source": [
    "IMPORTS"
   ]
  },
  {
   "cell_type": "code",
   "execution_count": 26,
   "metadata": {},
   "outputs": [],
   "source": [
    "# Load the Pandas libraries with alias 'pd' \n",
    "import pandas as pd \n",
    "import numpy as np\n",
    "import seaborn as sn\n",
    "from sklearn.metrics import confusion_matrix\n",
    "from  sklearn.neural_network import MLPClassifier\n",
    "from sklearn.model_selection import train_test_split\n",
    "from sklearn.preprocessing import StandardScaler\n",
    "from sklearn import metrics \n",
    "from sklearn.preprocessing import MinMaxScaler\n",
    "from sklearn.metrics import classification_report\n",
    "from sklearn.feature_selection import VarianceThreshold\n",
    "from imblearn.combine import SMOTETomek\n",
    "from imblearn.combine import SMOTEENN\n",
    "from collections import Counter\n",
    "from sklearn.neighbors import KNeighborsClassifier\n",
    "from sklearn.ensemble import RandomForestClassifier\n",
    "from sklearn.tree import DecisionTreeClassifier\n",
    "import matplotlib.pyplot as plt\n",
    "from sklearn.linear_model import LogisticRegression\n",
    "from sklearn.linear_model import Perceptron\n",
    "from sklearn.naive_bayes import GaussianNB"
   ]
  },
  {
   "cell_type": "markdown",
   "metadata": {},
   "source": [
    "READING DATASET AND EXAMINING LABEL\n"
   ]
  },
  {
   "cell_type": "code",
   "execution_count": 4,
   "metadata": {
    "scrolled": true
   },
   "outputs": [
    {
     "data": {
      "text/html": [
       "<div>\n",
       "<style scoped>\n",
       "    .dataframe tbody tr th:only-of-type {\n",
       "        vertical-align: middle;\n",
       "    }\n",
       "\n",
       "    .dataframe tbody tr th {\n",
       "        vertical-align: top;\n",
       "    }\n",
       "\n",
       "    .dataframe thead th {\n",
       "        text-align: right;\n",
       "    }\n",
       "</style>\n",
       "<table border=\"1\" class=\"dataframe\">\n",
       "  <thead>\n",
       "    <tr style=\"text-align: right;\">\n",
       "      <th></th>\n",
       "      <th>Flow ID</th>\n",
       "      <th>Src IP</th>\n",
       "      <th>Src Port</th>\n",
       "      <th>Dst IP</th>\n",
       "      <th>Dst Port</th>\n",
       "      <th>Protocol</th>\n",
       "      <th>Flow Duration</th>\n",
       "      <th>Total Fwd Packet</th>\n",
       "      <th>Total Bwd packets</th>\n",
       "      <th>Total Length of Fwd Packet</th>\n",
       "      <th>...</th>\n",
       "      <th>Fwd Seg Size Min</th>\n",
       "      <th>Active Mean</th>\n",
       "      <th>Active Std</th>\n",
       "      <th>Active Max</th>\n",
       "      <th>Active Min</th>\n",
       "      <th>Idle Mean</th>\n",
       "      <th>Idle Std</th>\n",
       "      <th>Idle Max</th>\n",
       "      <th>Idle Min</th>\n",
       "      <th>Label</th>\n",
       "    </tr>\n",
       "  </thead>\n",
       "  <tbody>\n",
       "    <tr>\n",
       "      <th>0</th>\n",
       "      <td>10.152.152.11-216.58.220.99-57158-443-6</td>\n",
       "      <td>10.152.152.11</td>\n",
       "      <td>57158</td>\n",
       "      <td>216.58.220.99</td>\n",
       "      <td>443</td>\n",
       "      <td>6</td>\n",
       "      <td>229</td>\n",
       "      <td>1</td>\n",
       "      <td>1</td>\n",
       "      <td>0</td>\n",
       "      <td>...</td>\n",
       "      <td>20</td>\n",
       "      <td>0</td>\n",
       "      <td>0</td>\n",
       "      <td>0</td>\n",
       "      <td>0</td>\n",
       "      <td>0.000000e+00</td>\n",
       "      <td>0.000000e+00</td>\n",
       "      <td>0.000000e+00</td>\n",
       "      <td>0.000000e+00</td>\n",
       "      <td>AUDIO-STREAMING</td>\n",
       "    </tr>\n",
       "    <tr>\n",
       "      <th>1</th>\n",
       "      <td>10.152.152.11-216.58.220.99-57159-443-6</td>\n",
       "      <td>10.152.152.11</td>\n",
       "      <td>57159</td>\n",
       "      <td>216.58.220.99</td>\n",
       "      <td>443</td>\n",
       "      <td>6</td>\n",
       "      <td>407</td>\n",
       "      <td>1</td>\n",
       "      <td>1</td>\n",
       "      <td>0</td>\n",
       "      <td>...</td>\n",
       "      <td>20</td>\n",
       "      <td>0</td>\n",
       "      <td>0</td>\n",
       "      <td>0</td>\n",
       "      <td>0</td>\n",
       "      <td>0.000000e+00</td>\n",
       "      <td>0.000000e+00</td>\n",
       "      <td>0.000000e+00</td>\n",
       "      <td>0.000000e+00</td>\n",
       "      <td>AUDIO-STREAMING</td>\n",
       "    </tr>\n",
       "    <tr>\n",
       "      <th>2</th>\n",
       "      <td>10.152.152.11-216.58.220.99-57160-443-6</td>\n",
       "      <td>10.152.152.11</td>\n",
       "      <td>57160</td>\n",
       "      <td>216.58.220.99</td>\n",
       "      <td>443</td>\n",
       "      <td>6</td>\n",
       "      <td>431</td>\n",
       "      <td>1</td>\n",
       "      <td>1</td>\n",
       "      <td>0</td>\n",
       "      <td>...</td>\n",
       "      <td>20</td>\n",
       "      <td>0</td>\n",
       "      <td>0</td>\n",
       "      <td>0</td>\n",
       "      <td>0</td>\n",
       "      <td>0.000000e+00</td>\n",
       "      <td>0.000000e+00</td>\n",
       "      <td>0.000000e+00</td>\n",
       "      <td>0.000000e+00</td>\n",
       "      <td>AUDIO-STREAMING</td>\n",
       "    </tr>\n",
       "    <tr>\n",
       "      <th>3</th>\n",
       "      <td>10.152.152.11-74.125.136.120-49134-443-6</td>\n",
       "      <td>10.152.152.11</td>\n",
       "      <td>49134</td>\n",
       "      <td>74.125.136.120</td>\n",
       "      <td>443</td>\n",
       "      <td>6</td>\n",
       "      <td>359</td>\n",
       "      <td>1</td>\n",
       "      <td>1</td>\n",
       "      <td>0</td>\n",
       "      <td>...</td>\n",
       "      <td>20</td>\n",
       "      <td>0</td>\n",
       "      <td>0</td>\n",
       "      <td>0</td>\n",
       "      <td>0</td>\n",
       "      <td>0.000000e+00</td>\n",
       "      <td>0.000000e+00</td>\n",
       "      <td>0.000000e+00</td>\n",
       "      <td>0.000000e+00</td>\n",
       "      <td>AUDIO-STREAMING</td>\n",
       "    </tr>\n",
       "    <tr>\n",
       "      <th>4</th>\n",
       "      <td>10.152.152.11-173.194.65.127-34697-19305-6</td>\n",
       "      <td>10.152.152.11</td>\n",
       "      <td>34697</td>\n",
       "      <td>173.194.65.127</td>\n",
       "      <td>19305</td>\n",
       "      <td>6</td>\n",
       "      <td>10778451</td>\n",
       "      <td>591</td>\n",
       "      <td>400</td>\n",
       "      <td>64530</td>\n",
       "      <td>...</td>\n",
       "      <td>20</td>\n",
       "      <td>0</td>\n",
       "      <td>0</td>\n",
       "      <td>0</td>\n",
       "      <td>0</td>\n",
       "      <td>1.440000e+15</td>\n",
       "      <td>3.117718e+06</td>\n",
       "      <td>1.440000e+15</td>\n",
       "      <td>1.440000e+15</td>\n",
       "      <td>AUDIO-STREAMING</td>\n",
       "    </tr>\n",
       "    <tr>\n",
       "      <th>...</th>\n",
       "      <td>...</td>\n",
       "      <td>...</td>\n",
       "      <td>...</td>\n",
       "      <td>...</td>\n",
       "      <td>...</td>\n",
       "      <td>...</td>\n",
       "      <td>...</td>\n",
       "      <td>...</td>\n",
       "      <td>...</td>\n",
       "      <td>...</td>\n",
       "      <td>...</td>\n",
       "      <td>...</td>\n",
       "      <td>...</td>\n",
       "      <td>...</td>\n",
       "      <td>...</td>\n",
       "      <td>...</td>\n",
       "      <td>...</td>\n",
       "      <td>...</td>\n",
       "      <td>...</td>\n",
       "      <td>...</td>\n",
       "      <td>...</td>\n",
       "    </tr>\n",
       "    <tr>\n",
       "      <th>141525</th>\n",
       "      <td>10.8.8.246-224.0.0.252-55219-5355-17</td>\n",
       "      <td>10.8.8.246</td>\n",
       "      <td>55219</td>\n",
       "      <td>224.0.0.252</td>\n",
       "      <td>5355</td>\n",
       "      <td>17</td>\n",
       "      <td>411806</td>\n",
       "      <td>2</td>\n",
       "      <td>0</td>\n",
       "      <td>44</td>\n",
       "      <td>...</td>\n",
       "      <td>8</td>\n",
       "      <td>0</td>\n",
       "      <td>0</td>\n",
       "      <td>0</td>\n",
       "      <td>0</td>\n",
       "      <td>0.000000e+00</td>\n",
       "      <td>0.000000e+00</td>\n",
       "      <td>0.000000e+00</td>\n",
       "      <td>0.000000e+00</td>\n",
       "      <td>VOIP</td>\n",
       "    </tr>\n",
       "    <tr>\n",
       "      <th>141526</th>\n",
       "      <td>10.8.8.246-224.0.0.252-64207-5355-17</td>\n",
       "      <td>10.8.8.246</td>\n",
       "      <td>64207</td>\n",
       "      <td>224.0.0.252</td>\n",
       "      <td>5355</td>\n",
       "      <td>17</td>\n",
       "      <td>411574</td>\n",
       "      <td>2</td>\n",
       "      <td>0</td>\n",
       "      <td>44</td>\n",
       "      <td>...</td>\n",
       "      <td>8</td>\n",
       "      <td>0</td>\n",
       "      <td>0</td>\n",
       "      <td>0</td>\n",
       "      <td>0</td>\n",
       "      <td>0.000000e+00</td>\n",
       "      <td>0.000000e+00</td>\n",
       "      <td>0.000000e+00</td>\n",
       "      <td>0.000000e+00</td>\n",
       "      <td>VOIP</td>\n",
       "    </tr>\n",
       "    <tr>\n",
       "      <th>141527</th>\n",
       "      <td>10.8.8.246-224.0.0.252-61115-5355-17</td>\n",
       "      <td>10.8.8.246</td>\n",
       "      <td>61115</td>\n",
       "      <td>224.0.0.252</td>\n",
       "      <td>5355</td>\n",
       "      <td>17</td>\n",
       "      <td>422299</td>\n",
       "      <td>2</td>\n",
       "      <td>0</td>\n",
       "      <td>44</td>\n",
       "      <td>...</td>\n",
       "      <td>8</td>\n",
       "      <td>0</td>\n",
       "      <td>0</td>\n",
       "      <td>0</td>\n",
       "      <td>0</td>\n",
       "      <td>0.000000e+00</td>\n",
       "      <td>0.000000e+00</td>\n",
       "      <td>0.000000e+00</td>\n",
       "      <td>0.000000e+00</td>\n",
       "      <td>VOIP</td>\n",
       "    </tr>\n",
       "    <tr>\n",
       "      <th>141528</th>\n",
       "      <td>10.8.8.246-224.0.0.252-64790-5355-17</td>\n",
       "      <td>10.8.8.246</td>\n",
       "      <td>64790</td>\n",
       "      <td>224.0.0.252</td>\n",
       "      <td>5355</td>\n",
       "      <td>17</td>\n",
       "      <td>411855</td>\n",
       "      <td>2</td>\n",
       "      <td>0</td>\n",
       "      <td>44</td>\n",
       "      <td>...</td>\n",
       "      <td>8</td>\n",
       "      <td>0</td>\n",
       "      <td>0</td>\n",
       "      <td>0</td>\n",
       "      <td>0</td>\n",
       "      <td>0.000000e+00</td>\n",
       "      <td>0.000000e+00</td>\n",
       "      <td>0.000000e+00</td>\n",
       "      <td>0.000000e+00</td>\n",
       "      <td>VOIP</td>\n",
       "    </tr>\n",
       "    <tr>\n",
       "      <th>141529</th>\n",
       "      <td>80.239.235.110-10.8.8.246-11666-60245-17</td>\n",
       "      <td>80.239.235.110</td>\n",
       "      <td>11666</td>\n",
       "      <td>10.8.8.246</td>\n",
       "      <td>60245</td>\n",
       "      <td>17</td>\n",
       "      <td>119990044</td>\n",
       "      <td>5995</td>\n",
       "      <td>6000</td>\n",
       "      <td>497585</td>\n",
       "      <td>...</td>\n",
       "      <td>8</td>\n",
       "      <td>0</td>\n",
       "      <td>0</td>\n",
       "      <td>0</td>\n",
       "      <td>0</td>\n",
       "      <td>1.430000e+15</td>\n",
       "      <td>3.463689e+07</td>\n",
       "      <td>1.430000e+15</td>\n",
       "      <td>1.430000e+15</td>\n",
       "      <td>VOIP</td>\n",
       "    </tr>\n",
       "  </tbody>\n",
       "</table>\n",
       "<p>141530 rows × 83 columns</p>\n",
       "</div>"
      ],
      "text/plain": [
       "                                           Flow ID          Src IP  Src Port  \\\n",
       "0          10.152.152.11-216.58.220.99-57158-443-6   10.152.152.11     57158   \n",
       "1          10.152.152.11-216.58.220.99-57159-443-6   10.152.152.11     57159   \n",
       "2          10.152.152.11-216.58.220.99-57160-443-6   10.152.152.11     57160   \n",
       "3         10.152.152.11-74.125.136.120-49134-443-6   10.152.152.11     49134   \n",
       "4       10.152.152.11-173.194.65.127-34697-19305-6   10.152.152.11     34697   \n",
       "...                                            ...             ...       ...   \n",
       "141525        10.8.8.246-224.0.0.252-55219-5355-17      10.8.8.246     55219   \n",
       "141526        10.8.8.246-224.0.0.252-64207-5355-17      10.8.8.246     64207   \n",
       "141527        10.8.8.246-224.0.0.252-61115-5355-17      10.8.8.246     61115   \n",
       "141528        10.8.8.246-224.0.0.252-64790-5355-17      10.8.8.246     64790   \n",
       "141529    80.239.235.110-10.8.8.246-11666-60245-17  80.239.235.110     11666   \n",
       "\n",
       "                Dst IP  Dst Port  Protocol  Flow Duration  Total Fwd Packet  \\\n",
       "0        216.58.220.99       443         6            229                 1   \n",
       "1        216.58.220.99       443         6            407                 1   \n",
       "2        216.58.220.99       443         6            431                 1   \n",
       "3       74.125.136.120       443         6            359                 1   \n",
       "4       173.194.65.127     19305         6       10778451               591   \n",
       "...                ...       ...       ...            ...               ...   \n",
       "141525     224.0.0.252      5355        17         411806                 2   \n",
       "141526     224.0.0.252      5355        17         411574                 2   \n",
       "141527     224.0.0.252      5355        17         422299                 2   \n",
       "141528     224.0.0.252      5355        17         411855                 2   \n",
       "141529      10.8.8.246     60245        17      119990044              5995   \n",
       "\n",
       "        Total Bwd packets  Total Length of Fwd Packet  ...  Fwd Seg Size Min  \\\n",
       "0                       1                           0  ...                20   \n",
       "1                       1                           0  ...                20   \n",
       "2                       1                           0  ...                20   \n",
       "3                       1                           0  ...                20   \n",
       "4                     400                       64530  ...                20   \n",
       "...                   ...                         ...  ...               ...   \n",
       "141525                  0                          44  ...                 8   \n",
       "141526                  0                          44  ...                 8   \n",
       "141527                  0                          44  ...                 8   \n",
       "141528                  0                          44  ...                 8   \n",
       "141529               6000                      497585  ...                 8   \n",
       "\n",
       "        Active Mean  Active Std  Active Max  Active Min     Idle Mean  \\\n",
       "0                 0           0           0           0  0.000000e+00   \n",
       "1                 0           0           0           0  0.000000e+00   \n",
       "2                 0           0           0           0  0.000000e+00   \n",
       "3                 0           0           0           0  0.000000e+00   \n",
       "4                 0           0           0           0  1.440000e+15   \n",
       "...             ...         ...         ...         ...           ...   \n",
       "141525            0           0           0           0  0.000000e+00   \n",
       "141526            0           0           0           0  0.000000e+00   \n",
       "141527            0           0           0           0  0.000000e+00   \n",
       "141528            0           0           0           0  0.000000e+00   \n",
       "141529            0           0           0           0  1.430000e+15   \n",
       "\n",
       "            Idle Std      Idle Max      Idle Min            Label  \n",
       "0       0.000000e+00  0.000000e+00  0.000000e+00  AUDIO-STREAMING  \n",
       "1       0.000000e+00  0.000000e+00  0.000000e+00  AUDIO-STREAMING  \n",
       "2       0.000000e+00  0.000000e+00  0.000000e+00  AUDIO-STREAMING  \n",
       "3       0.000000e+00  0.000000e+00  0.000000e+00  AUDIO-STREAMING  \n",
       "4       3.117718e+06  1.440000e+15  1.440000e+15  AUDIO-STREAMING  \n",
       "...              ...           ...           ...              ...  \n",
       "141525  0.000000e+00  0.000000e+00  0.000000e+00             VOIP  \n",
       "141526  0.000000e+00  0.000000e+00  0.000000e+00             VOIP  \n",
       "141527  0.000000e+00  0.000000e+00  0.000000e+00             VOIP  \n",
       "141528  0.000000e+00  0.000000e+00  0.000000e+00             VOIP  \n",
       "141529  3.463689e+07  1.430000e+15  1.430000e+15             VOIP  \n",
       "\n",
       "[141530 rows x 83 columns]"
      ]
     },
     "metadata": {},
     "output_type": "display_data"
    },
    {
     "name": "stdout",
     "output_type": "stream",
     "text": [
      "File-transfer         84\n",
      "Video-streaming      281\n",
      "AUDIO-STREAMING     1484\n",
      "VOIP                3566\n",
      "Email               6145\n",
      "Video-Streaming     9486\n",
      "File-Transfer      11098\n",
      "Chat               11478\n",
      "Audio-Streaming    16580\n",
      "Browsing           32808\n",
      "P2P                48520\n",
      "Name: Label, dtype: int64\n"
     ]
    }
   ],
   "source": [
    "dataset = pd.read_csv(\"c:/Darknet_all.csv\" , low_memory=False) \n",
    "df = pd.DataFrame(dataset)\n",
    "display(df)\n",
    "print (df['Label'].value_counts(ascending=True))\n",
    "\n"
   ]
  },
  {
   "cell_type": "markdown",
   "metadata": {},
   "source": [
    "After examining the Label values , we found out some duplicate classes so we dropped them ."
   ]
  },
  {
   "cell_type": "code",
   "execution_count": 5,
   "metadata": {},
   "outputs": [
    {
     "name": "stdout",
     "output_type": "stream",
     "text": [
      "VOIP                3566\n",
      "Email               6145\n",
      "Video-Streaming     9486\n",
      "File-Transfer      11098\n",
      "Chat               11478\n",
      "Audio-Streaming    16580\n",
      "Browsing           32808\n",
      "P2P                48520\n",
      "Name: Label, dtype: int64\n"
     ]
    }
   ],
   "source": [
    "\n",
    "\n",
    "\n",
    "dup_values = ['Video-streaming', 'AUDIO-STREAMING','File-transfer' ]\n",
    "df = df[df.Label.isin(dup_values) == False]    #returing df without duplicated classes\n",
    "print (df['Label'].value_counts(ascending=True))\n",
    "\n",
    "\n"
   ]
  },
  {
   "cell_type": "markdown",
   "metadata": {},
   "source": [
    "Missing data is data which is not available ( NULL) or infinite values , we will remove the rows which contain any missing data. This shall not affect the model as the dataset is big enough."
   ]
  },
  {
   "cell_type": "code",
   "execution_count": 6,
   "metadata": {},
   "outputs": [
    {
     "name": "stdout",
     "output_type": "stream",
     "text": [
      "Dataset size after removal :  (139646, 83)\n"
     ]
    }
   ],
   "source": [
    "\n",
    "\n",
    "df.replace([np.inf, -np.inf], np.nan, inplace=True) #replace infinity values with NaN\n",
    "df.dropna(inplace=True) #dropping rows with missing values  \n",
    "print(\"Dataset size after removal : \" ,df.shape)\n",
    "\n",
    "\n"
   ]
  },
  {
   "cell_type": "markdown",
   "metadata": {},
   "source": [
    "Dropping unneccassory features like id ,and converting ips to binary then int.."
   ]
  },
  {
   "cell_type": "code",
   "execution_count": 7,
   "metadata": {},
   "outputs": [],
   "source": [
    "df.drop('Flow ID', axis=1, inplace=True)\n",
    "\n",
    "\n",
    "i=0\n",
    "for ip in df['Src IP'].values:\n",
    "    z = 0\n",
    "    parts = ip.split('.')\n",
    "    z = (int(parts[0]) << 24) + (int(parts[1]) << 16) + (int(parts[2]) << 8) + int(parts[3])\n",
    "    ip= z\n",
    "    df['Src IP'].values[i]=ip\n",
    "    i=i+1\n",
    "\n",
    "\n",
    "\n",
    "i=0    \n",
    "for ip in df['Dst IP'].values:\n",
    "    z = 0\n",
    "    parts = ip.split('.')\n",
    "    z = (int(parts[0]) << 24) + (int(parts[1]) << 16) + (int(parts[2]) << 8) + int(parts[3])\n",
    "    ip= z\n",
    "    df['Dst IP'].values[i]=ip\n",
    "    i=i+1"
   ]
  },
  {
   "cell_type": "markdown",
   "metadata": {},
   "source": [
    "Removing 0 variance features.."
   ]
  },
  {
   "cell_type": "code",
   "execution_count": 8,
   "metadata": {},
   "outputs": [
    {
     "name": "stdout",
     "output_type": "stream",
     "text": [
      "Dataset size before removal  (139646, 82) \n",
      "\n",
      "0 variance features :  ['Bwd PSH Flags', 'Fwd URG Flags', 'Bwd URG Flags', 'URG Flag Count', 'CWE Flag Count', 'ECE Flag Count', 'Fwd Bytes/Bulk Avg', 'Fwd Packet/Bulk Avg', 'Fwd Bulk Rate Avg', 'Bwd Bytes/Bulk Avg', 'Subflow Bwd Packets', 'Active Mean', 'Active Std', 'Active Max', 'Active Min'] \n",
      "\n",
      "Dataset size after removal  (139646, 67) \n",
      "\n"
     ]
    }
   ],
   "source": [
    "\n",
    "\n",
    "\n",
    "df_nolabel = df.iloc[:,:-1].values\n",
    "\n",
    "sel = VarianceThreshold(threshold=0)    \n",
    "sel.fit_transform(df_nolabel)\n",
    "arr=sel.get_support()\n",
    "\n",
    "arr1=np.argwhere(arr == 0)\n",
    "\n",
    "print(\"Dataset size before removal \" ,df.shape ,\"\\n\")\n",
    "features_to_remove=[]\n",
    "for i in arr1 :\n",
    "    features_to_remove.append((df.columns[i].values[0]))\n",
    "\n",
    "print(\"0 variance features : \" ,features_to_remove ,\"\\n\")\n",
    "df.drop(features_to_remove, axis=1, inplace=True)\n",
    "print(\"Dataset size after removal \" ,df.shape , \"\\n\")"
   ]
  },
  {
   "cell_type": "markdown",
   "metadata": {},
   "source": [
    "Features scaling and splitting the dataset into training and testing subsets."
   ]
  },
  {
   "cell_type": "code",
   "execution_count": 9,
   "metadata": {},
   "outputs": [],
   "source": [
    "count=df.shape[1]\n",
    "x = df.iloc[:,:-1].values\n",
    "y = df.iloc[:, count-1].values\n",
    "\n",
    "scaler = StandardScaler().fit(x)\n",
    "x = scaler.transform(x)\n",
    "\n",
    "X_train, X_test, y_train, y_test = train_test_split(x, y, test_size=0.3)\n",
    "\n"
   ]
  },
  {
   "cell_type": "markdown",
   "metadata": {},
   "source": [
    "SMOTE technique to overcome dataset imbalance .."
   ]
  },
  {
   "cell_type": "code",
   "execution_count": 10,
   "metadata": {},
   "outputs": [
    {
     "name": "stdout",
     "output_type": "stream",
     "text": [
      "Before Counter({'P2P': 33991, 'Browsing': 22996, 'Audio-Streaming': 11601, 'Chat': 7996, 'File-Transfer': 7752, 'Video-Streaming': 6629, 'Email': 4330, 'VOIP': 2457})\n",
      "After Counter({'P2P': 33101, 'Audio-Streaming': 30214, 'File-Transfer': 29964, 'Browsing': 29059, 'VOIP': 28629, 'Video-Streaming': 28138, 'Email': 28105, 'Chat': 26813})\n"
     ]
    }
   ],
   "source": [
    "\n",
    "counter = Counter(y_train) \n",
    "print('Before', counter) \n",
    "smtom = SMOTEENN () \n",
    "X_train_smtom, y_train_smtom = smtom.fit_resample (X_train, y_train)\n",
    "counter = Counter(y_train_smtom) \n",
    "print('After', counter)\n"
   ]
  },
  {
   "cell_type": "code",
   "execution_count": 11,
   "metadata": {},
   "outputs": [
    {
     "name": "stdout",
     "output_type": "stream",
     "text": [
      "Fitting 4 folds for each of 50 candidates, totalling 200 fits\n"
     ]
    },
    {
     "name": "stderr",
     "output_type": "stream",
     "text": [
      "[Parallel(n_jobs=-1)]: Using backend LokyBackend with 8 concurrent workers.\n",
      "[Parallel(n_jobs=-1)]: Done  34 tasks      | elapsed:   51.4s\n",
      "[Parallel(n_jobs=-1)]: Done 184 tasks      | elapsed:  7.3min\n",
      "[Parallel(n_jobs=-1)]: Done 200 out of 200 | elapsed:  8.5min finished\n"
     ]
    },
    {
     "data": {
      "text/plain": [
       "DecisionTreeClassifier(criterion='entropy', max_depth=20, min_samples_leaf=5)"
      ]
     },
     "execution_count": 11,
     "metadata": {},
     "output_type": "execute_result"
    }
   ],
   "source": [
    "clf = DecisionTreeClassifier()\n",
    "\n",
    "\n",
    "from sklearn.model_selection import GridSearchCV\n",
    "\n",
    "params = {\n",
    "    'max_depth': [2, 3, 5, 10, 20],\n",
    "    'min_samples_leaf': [5, 10, 20, 50, 100],\n",
    "    'criterion': [\"gini\", \"entropy\"]\n",
    "    \n",
    "}\n",
    "\n",
    "grid_search = GridSearchCV(estimator=clf, \n",
    "                           param_grid=params, \n",
    "                           cv=4, n_jobs=-1, verbose=1, scoring = \"accuracy\")\n",
    "\n",
    "grid_search.fit(X_train_smtom, y_train_smtom)\n",
    "\n",
    "grid_search.best_estimator_\n"
   ]
  },
  {
   "cell_type": "code",
   "execution_count": 12,
   "metadata": {},
   "outputs": [
    {
     "name": "stdout",
     "output_type": "stream",
     "text": [
      "                 precision    recall  f1-score   support\n",
      "\n",
      "Audio-Streaming       0.93      0.86      0.90      4979\n",
      "       Browsing       0.96      0.91      0.94      9812\n",
      "           Chat       0.82      0.68      0.74      3477\n",
      "          Email       0.62      0.73      0.67      1813\n",
      "  File-Transfer       0.78      0.83      0.81      3337\n",
      "            P2P       1.00      0.99      0.99     14529\n",
      "           VOIP       0.61      0.76      0.68      1109\n",
      "Video-Streaming       0.64      0.80      0.72      2838\n",
      "\n",
      "       accuracy                           0.89     41894\n",
      "      macro avg       0.80      0.82      0.81     41894\n",
      "   weighted avg       0.90      0.89      0.89     41894\n",
      "\n",
      "                 precision    recall  f1-score   support\n",
      "\n",
      "Audio-Streaming       0.99      0.96      0.97     30214\n",
      "       Browsing       0.98      0.98      0.98     29059\n",
      "           Chat       0.94      0.89      0.91     26813\n",
      "          Email       0.89      0.93      0.91     28105\n",
      "  File-Transfer       0.97      0.97      0.97     29964\n",
      "            P2P       1.00      1.00      1.00     33101\n",
      "           VOIP       0.94      0.95      0.95     28629\n",
      "Video-Streaming       0.93      0.96      0.95     28138\n",
      "\n",
      "       accuracy                           0.96    234023\n",
      "      macro avg       0.95      0.95      0.95    234023\n",
      "   weighted avg       0.96      0.96      0.96    234023\n",
      "\n"
     ]
    }
   ],
   "source": [
    "best_DT=DecisionTreeClassifier(criterion='entropy', max_depth=20, min_samples_leaf=5)\n",
    "\n",
    "\n",
    "best_DT = best_DT.fit(X_train_smtom, y_train_smtom)\n",
    "\n",
    "\n",
    "y_pred = best_DT.predict(X_test)\n",
    "print(classification_report(y_test, y_pred))\n",
    "\n",
    "y_train_pred = best_DT.predict(X_train_smtom)\n",
    "print(classification_report(y_train_smtom, y_train_pred))\n",
    "\n"
   ]
  },
  {
   "cell_type": "code",
   "execution_count": 13,
   "metadata": {},
   "outputs": [
    {
     "name": "stdout",
     "output_type": "stream",
     "text": [
      "                 precision    recall  f1-score   support\n",
      "\n",
      "Audio-Streaming       0.91      0.85      0.88      4979\n",
      "       Browsing       0.93      0.86      0.89      9812\n",
      "           Chat       0.81      0.69      0.74      3477\n",
      "          Email       0.60      0.71      0.65      1813\n",
      "  File-Transfer       0.69      0.78      0.73      3337\n",
      "            P2P       0.99      0.97      0.98     14529\n",
      "           VOIP       0.58      0.70      0.63      1109\n",
      "Video-Streaming       0.57      0.73      0.64      2838\n",
      "\n",
      "       accuracy                           0.86     41894\n",
      "      macro avg       0.76      0.79      0.77     41894\n",
      "   weighted avg       0.87      0.86      0.86     41894\n",
      "\n"
     ]
    }
   ],
   "source": [
    "#Create KNN Classifier\n",
    "knn = KNeighborsClassifier(n_neighbors=5)\n",
    "\n",
    "#Train the model using the training sets\n",
    "knn.fit(X_train_smtom, y_train_smtom)\n",
    "\n",
    "#Predict the response for test dataset\n",
    "y_pred = knn.predict(X_test)\n",
    "print(classification_report(y_test, y_pred))"
   ]
  },
  {
   "cell_type": "code",
   "execution_count": 29,
   "metadata": {},
   "outputs": [
    {
     "name": "stdout",
     "output_type": "stream",
     "text": [
      "                 precision    recall  f1-score   support\n",
      "\n",
      "Audio-Streaming       0.94      0.87      0.90      4979\n",
      "       Browsing       0.96      0.93      0.94      9812\n",
      "           Chat       0.86      0.66      0.75      3477\n",
      "          Email       0.60      0.73      0.66      1813\n",
      "  File-Transfer       0.83      0.83      0.83      3337\n",
      "            P2P       1.00      0.99      0.99     14529\n",
      "           VOIP       0.59      0.81      0.68      1109\n",
      "Video-Streaming       0.66      0.82      0.73      2838\n",
      "\n",
      "       accuracy                           0.90     41894\n",
      "      macro avg       0.80      0.83      0.81     41894\n",
      "   weighted avg       0.91      0.90      0.90     41894\n",
      "\n"
     ]
    }
   ],
   "source": [
    "clf=RandomForestClassifier(n_estimators=100)\n",
    "clf = clf.fit(X_train_smtom, y_train_smtom)\n",
    "y_pred = clf.predict(X_test)\n",
    "print(classification_report(y_test, y_pred))\n",
    "\n",
    "import matplotlib.pyplot as plt\n",
    "from sklearn.tree import plot_tree\n",
    "\n",
    "#fig = plt.figure(figsize=(25, 10))\n",
    "#plot_tree(clf.estimators_[0], \n",
    "          #feature_names=df.columns,\n",
    "          #class_names=df.Label.unique(), \n",
    "          #filled=True, impurity=True, \n",
    "          #rounded=True)"
   ]
  },
  {
   "cell_type": "code",
   "execution_count": 17,
   "metadata": {},
   "outputs": [
    {
     "name": "stderr",
     "output_type": "stream",
     "text": [
      "C:\\Users\\lenevo\\anaconda3\\lib\\site-packages\\sklearn\\linear_model\\_logistic.py:762: ConvergenceWarning: lbfgs failed to converge (status=1):\n",
      "STOP: TOTAL NO. of ITERATIONS REACHED LIMIT.\n",
      "\n",
      "Increase the number of iterations (max_iter) or scale the data as shown in:\n",
      "    https://scikit-learn.org/stable/modules/preprocessing.html\n",
      "Please also refer to the documentation for alternative solver options:\n",
      "    https://scikit-learn.org/stable/modules/linear_model.html#logistic-regression\n",
      "  n_iter_i = _check_optimize_result(\n"
     ]
    },
    {
     "name": "stdout",
     "output_type": "stream",
     "text": [
      "                 precision    recall  f1-score   support\n",
      "\n",
      "Audio-Streaming       0.82      0.66      0.73      4979\n",
      "       Browsing       0.77      0.77      0.77      9812\n",
      "           Chat       0.60      0.37      0.46      3477\n",
      "          Email       0.24      0.23      0.24      1813\n",
      "  File-Transfer       0.40      0.45      0.42      3337\n",
      "            P2P       0.93      0.87      0.90     14529\n",
      "           VOIP       0.26      0.78      0.39      1109\n",
      "Video-Streaming       0.41      0.52      0.46      2838\n",
      "\n",
      "       accuracy                           0.69     41894\n",
      "      macro avg       0.55      0.58      0.55     41894\n",
      "   weighted avg       0.73      0.69      0.70     41894\n",
      "\n"
     ]
    }
   ],
   "source": [
    "# Logistic Regression\n",
    "clf = LogisticRegression()\n",
    "log=clf.fit(X_train_smtom,y_train_smtom)\n",
    "y_pred =log.predict(X_test)\n",
    "print(classification_report(y_test, y_pred))"
   ]
  },
  {
   "cell_type": "code",
   "execution_count": 21,
   "metadata": {},
   "outputs": [
    {
     "name": "stdout",
     "output_type": "stream",
     "text": [
      "                 precision    recall  f1-score   support\n",
      "\n",
      "Audio-Streaming       0.61      0.72      0.66      4979\n",
      "       Browsing       0.87      0.46      0.60      9812\n",
      "           Chat       0.22      0.09      0.13      3477\n",
      "          Email       0.28      0.63      0.39      1813\n",
      "  File-Transfer       0.18      0.45      0.26      3337\n",
      "            P2P       0.93      0.77      0.84     14529\n",
      "           VOIP       0.19      0.13      0.16      1109\n",
      "Video-Streaming       0.28      0.43      0.34      2838\n",
      "\n",
      "       accuracy                           0.56     41894\n",
      "      macro avg       0.44      0.46      0.42     41894\n",
      "   weighted avg       0.67      0.56      0.59     41894\n",
      "\n"
     ]
    }
   ],
   "source": [
    "# Single Perceprton\n",
    "clf = Perceptron(tol=1e-3, random_state=0)\n",
    "clf.fit(X_train_smtom, y_train_smtom)\n",
    "y_pred = clf.predict(X_test)\n",
    "print(classification_report(y_test, y_pred))"
   ]
  },
  {
   "cell_type": "code",
   "execution_count": 23,
   "metadata": {},
   "outputs": [
    {
     "name": "stdout",
     "output_type": "stream",
     "text": [
      "Iteration 1, loss = 0.91684479\n",
      "Iteration 2, loss = 0.66486576\n",
      "Iteration 3, loss = 0.60313435\n",
      "Iteration 4, loss = 0.56848992\n",
      "Iteration 5, loss = 0.54462822\n",
      "Iteration 6, loss = 0.52656361\n",
      "Iteration 7, loss = 0.51333547\n",
      "Iteration 8, loss = 0.50208050\n",
      "Iteration 9, loss = 0.49350915\n",
      "Iteration 10, loss = 0.48543083\n",
      "Iteration 11, loss = 0.47864772\n",
      "Iteration 12, loss = 0.47254333\n",
      "Iteration 13, loss = 0.46696147\n",
      "Iteration 14, loss = 0.46170959\n",
      "Iteration 15, loss = 0.45750179\n",
      "Iteration 16, loss = 0.45278684\n",
      "Iteration 17, loss = 0.44967270\n",
      "Iteration 18, loss = 0.44514593\n",
      "Iteration 19, loss = 0.44230542\n",
      "Iteration 20, loss = 0.43979431\n",
      "Iteration 21, loss = 0.43673259\n",
      "Iteration 22, loss = 0.43364447\n",
      "Iteration 23, loss = 0.43058856\n",
      "Iteration 24, loss = 0.43032015\n",
      "Iteration 25, loss = 0.42705244\n",
      "Iteration 26, loss = 0.42535835\n",
      "Iteration 27, loss = 0.42297396\n",
      "Iteration 28, loss = 0.42048058\n",
      "Iteration 29, loss = 0.41896489\n",
      "Iteration 30, loss = 0.41812597\n",
      "Iteration 31, loss = 0.41550835\n",
      "Iteration 32, loss = 0.41361989\n",
      "Iteration 33, loss = 0.41208683\n",
      "Iteration 34, loss = 0.41019067\n",
      "Iteration 35, loss = 0.40875217\n"
     ]
    },
    {
     "name": "stderr",
     "output_type": "stream",
     "text": [
      "C:\\Users\\lenevo\\anaconda3\\lib\\site-packages\\sklearn\\neural_network\\_multilayer_perceptron.py:582: ConvergenceWarning: Stochastic Optimizer: Maximum iterations (35) reached and the optimization hasn't converged yet.\n",
      "  warnings.warn(\n"
     ]
    },
    {
     "name": "stdout",
     "output_type": "stream",
     "text": [
      "                 precision    recall  f1-score   support\n",
      "\n",
      "Audio-Streaming       0.94      0.76      0.84      4979\n",
      "       Browsing       0.91      0.90      0.90      9812\n",
      "           Chat       0.80      0.48      0.60      3477\n",
      "          Email       0.53      0.37      0.44      1813\n",
      "  File-Transfer       0.74      0.69      0.71      3337\n",
      "            P2P       0.99      0.98      0.99     14529\n",
      "           VOIP       0.30      0.90      0.46      1109\n",
      "Video-Streaming       0.53      0.76      0.62      2838\n",
      "\n",
      "       accuracy                           0.83     41894\n",
      "      macro avg       0.72      0.73      0.69     41894\n",
      "   weighted avg       0.86      0.83      0.83     41894\n",
      "\n",
      "{'Video-Streaming', 'Audio-Streaming', 'Email', 'VOIP', 'P2P', 'File-Transfer', 'Chat', 'Browsing'}\n",
      "{'Video-Streaming', 'Audio-Streaming', 'VOIP', 'Email', 'P2P', 'File-Transfer', 'Chat', 'Browsing'}\n"
     ]
    },
    {
     "data": {
      "image/png": "[encoded data removed]",
      "text/plain": [
       "<Figure size 432x288 with 2 Axes>"
      ]
     },
     "metadata": {
      "needs_background": "light"
     },
     "output_type": "display_data"
    }
   ],
   "source": [
    "classifier = MLPClassifier(hidden_layer_sizes=100,max_iter=35,activation='relu',solver='adam',verbose=(10),random_state=762,learning_rate='invscaling')\n",
    "classifier.fit(X_train_smtom,y_train_smtom)\n",
    "\n",
    "preds = classifier.predict(X_test)\n",
    "\n",
    "score = classification_report(y_test, preds)\n",
    "print(str(score))\n",
    "print(set(df.Label))\n",
    "print(set(preds))\n",
    "cfx=confusion_matrix(y_test, preds)\n",
    "cfxH = sn.heatmap(cfx, annot=False, cmap='Blues')\n",
    "cfxH.xaxis.set_ticklabels(list(set(preds)))\n",
    "cfxH.yaxis.set_ticklabels(list(set(preds)))\n",
    "plt.xticks(fontsize=6)\n",
    "plt.yticks(fontsize=5)\n",
    "\n",
    "plt.show()"
   ]
  },
  {
   "cell_type": "code",
   "execution_count": 27,
   "metadata": {},
   "outputs": [
    {
     "name": "stdout",
     "output_type": "stream",
     "text": [
      "                 precision    recall  f1-score   support\n",
      "\n",
      "Audio-Streaming       0.36      0.01      0.01      4979\n",
      "       Browsing       0.35      0.52      0.42      9812\n",
      "           Chat       0.14      0.86      0.24      3477\n",
      "          Email       0.23      0.09      0.13      1813\n",
      "  File-Transfer       0.52      0.11      0.18      3337\n",
      "            P2P       0.61      0.15      0.24     14529\n",
      "           VOIP       0.29      0.06      0.09      1109\n",
      "Video-Streaming       0.17      0.05      0.08      2838\n",
      "\n",
      "       accuracy                           0.26     41894\n",
      "      macro avg       0.33      0.23      0.17     41894\n",
      "   weighted avg       0.42      0.26      0.23     41894\n",
      "\n"
     ]
    }
   ],
   "source": [
    "gnb = GaussianNB()\n",
    "gnb.fit(X_train_smtom, y_train_smtom)\n",
    " \n",
    "# making predictions on the testing set\n",
    "y_pred = gnb.predict(X_test)\n",
    "\n",
    "# comparing actual response values (y_test) with predicted response values (y_pred)\n",
    "from sklearn import metrics\n",
    "print(classification_report(y_test,y_pred))"
   ]
  },
  {
   "cell_type": "code",
   "execution_count": null,
   "metadata": {},
   "outputs": [],
   "source": [
    "# SVM\n",
    "clf = svm.SVC(kernel='linear')\n",
    "clf.fit(X_train_smtom, y_train_smtom)\n",
    "y_pred = clf.predict(X_test)\n",
    "print(classification_report(y_test, y_pred))"
   ]
  }
 ],
 "metadata": {
  "kernelspec": {
   "display_name": "Python 3",
   "language": "python",
   "name": "python3"
  },
  "language_info": {
   "codemirror_mode": {
    "name": "ipython",
    "version": 3
   },
   "file_extension": ".py",
   "mimetype": "text/x-python",
   "name": "python",
   "nbconvert_exporter": "python",
   "pygments_lexer": "ipython3",
   "version": "3.8.8"
  }
 },
 "nbformat": 4,
 "nbformat_minor": 4
}
